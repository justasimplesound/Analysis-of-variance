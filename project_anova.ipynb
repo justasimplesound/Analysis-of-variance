{
 "cells": [
  {
   "cell_type": "code",
   "execution_count": 59,
   "metadata": {},
   "outputs": [],
   "source": [
    "import pandas as pd\n",
    "import numpy as np \n",
    "\n",
    "import pingouin as pg\n",
    "from pingouin import homoscedasticity\n",
    "from scipy.stats import shapiro\n",
    "import random\n",
    "from random import sample\n",
    "import seaborn as sns\n",
    "import statsmodels.api as sm\n",
    "from scipy import stats \n",
    "from statsmodels.stats.multicomp import (pairwise_tukeyhsd,\n",
    "MultiComparison)"
   ]
  },
  {
   "cell_type": "code",
   "execution_count": 5,
   "metadata": {},
   "outputs": [],
   "source": [
    "df_1 =  pd.read_csv('5_task_1.csv')\n",
    "df_2 = pd.read_csv('5_task_2.csv')"
   ]
  },
  {
   "cell_type": "code",
   "execution_count": 6,
   "metadata": {},
   "outputs": [
    {
     "data": {
      "text/html": [
       "<div>\n",
       "<style scoped>\n",
       "    .dataframe tbody tr th:only-of-type {\n",
       "        vertical-align: middle;\n",
       "    }\n",
       "\n",
       "    .dataframe tbody tr th {\n",
       "        vertical-align: top;\n",
       "    }\n",
       "\n",
       "    .dataframe thead th {\n",
       "        text-align: right;\n",
       "    }\n",
       "</style>\n",
       "<table border=\"1\" class=\"dataframe\">\n",
       "  <thead>\n",
       "    <tr style=\"text-align: right;\">\n",
       "      <th></th>\n",
       "      <th>id</th>\n",
       "      <th>group</th>\n",
       "      <th>events</th>\n",
       "    </tr>\n",
       "  </thead>\n",
       "  <tbody>\n",
       "    <tr>\n",
       "      <th>0</th>\n",
       "      <td>16046</td>\n",
       "      <td>A</td>\n",
       "      <td>14</td>\n",
       "    </tr>\n",
       "    <tr>\n",
       "      <th>1</th>\n",
       "      <td>18712</td>\n",
       "      <td>A</td>\n",
       "      <td>41</td>\n",
       "    </tr>\n",
       "    <tr>\n",
       "      <th>2</th>\n",
       "      <td>3268</td>\n",
       "      <td>A</td>\n",
       "      <td>30</td>\n",
       "    </tr>\n",
       "    <tr>\n",
       "      <th>3</th>\n",
       "      <td>22633</td>\n",
       "      <td>A</td>\n",
       "      <td>37</td>\n",
       "    </tr>\n",
       "    <tr>\n",
       "      <th>4</th>\n",
       "      <td>28071</td>\n",
       "      <td>A</td>\n",
       "      <td>38</td>\n",
       "    </tr>\n",
       "  </tbody>\n",
       "</table>\n",
       "</div>"
      ],
      "text/plain": [
       "      id group  events\n",
       "0  16046     A      14\n",
       "1  18712     A      41\n",
       "2   3268     A      30\n",
       "3  22633     A      37\n",
       "4  28071     A      38"
      ]
     },
     "execution_count": 6,
     "metadata": {},
     "output_type": "execute_result"
    }
   ],
   "source": [
    "df_1.head()"
   ]
  },
  {
   "cell_type": "code",
   "execution_count": 7,
   "metadata": {},
   "outputs": [
    {
     "data": {
      "text/html": [
       "<div>\n",
       "<style scoped>\n",
       "    .dataframe tbody tr th:only-of-type {\n",
       "        vertical-align: middle;\n",
       "    }\n",
       "\n",
       "    .dataframe tbody tr th {\n",
       "        vertical-align: top;\n",
       "    }\n",
       "\n",
       "    .dataframe thead th {\n",
       "        text-align: right;\n",
       "    }\n",
       "</style>\n",
       "<table border=\"1\" class=\"dataframe\">\n",
       "  <thead>\n",
       "    <tr style=\"text-align: right;\">\n",
       "      <th></th>\n",
       "      <th>id</th>\n",
       "      <th>group</th>\n",
       "      <th>segment</th>\n",
       "      <th>events</th>\n",
       "    </tr>\n",
       "  </thead>\n",
       "  <tbody>\n",
       "    <tr>\n",
       "      <th>0</th>\n",
       "      <td>83440</td>\n",
       "      <td>test</td>\n",
       "      <td>high</td>\n",
       "      <td>78.0</td>\n",
       "    </tr>\n",
       "    <tr>\n",
       "      <th>1</th>\n",
       "      <td>96723</td>\n",
       "      <td>test</td>\n",
       "      <td>high</td>\n",
       "      <td>71.0</td>\n",
       "    </tr>\n",
       "    <tr>\n",
       "      <th>2</th>\n",
       "      <td>68719</td>\n",
       "      <td>test</td>\n",
       "      <td>high</td>\n",
       "      <td>80.0</td>\n",
       "    </tr>\n",
       "    <tr>\n",
       "      <th>3</th>\n",
       "      <td>50399</td>\n",
       "      <td>test</td>\n",
       "      <td>high</td>\n",
       "      <td>80.0</td>\n",
       "    </tr>\n",
       "    <tr>\n",
       "      <th>4</th>\n",
       "      <td>95613</td>\n",
       "      <td>test</td>\n",
       "      <td>high</td>\n",
       "      <td>78.0</td>\n",
       "    </tr>\n",
       "  </tbody>\n",
       "</table>\n",
       "</div>"
      ],
      "text/plain": [
       "      id group segment  events\n",
       "0  83440  test    high    78.0\n",
       "1  96723  test    high    71.0\n",
       "2  68719  test    high    80.0\n",
       "3  50399  test    high    80.0\n",
       "4  95613  test    high    78.0"
      ]
     },
     "execution_count": 7,
     "metadata": {},
     "output_type": "execute_result"
    }
   ],
   "source": [
    "df_2.head()"
   ]
  },
  {
   "cell_type": "code",
   "execution_count": 14,
   "metadata": {},
   "outputs": [],
   "source": [
    "# проверки на гомогенность дисперсии внутри групп (в случае с df_1 - по A, B, C)"
   ]
  },
  {
   "cell_type": "code",
   "execution_count": 12,
   "metadata": {},
   "outputs": [
    {
     "data": {
      "text/html": [
       "<div>\n",
       "<style scoped>\n",
       "    .dataframe tbody tr th:only-of-type {\n",
       "        vertical-align: middle;\n",
       "    }\n",
       "\n",
       "    .dataframe tbody tr th {\n",
       "        vertical-align: top;\n",
       "    }\n",
       "\n",
       "    .dataframe thead th {\n",
       "        text-align: right;\n",
       "    }\n",
       "</style>\n",
       "<table border=\"1\" class=\"dataframe\">\n",
       "  <thead>\n",
       "    <tr style=\"text-align: right;\">\n",
       "      <th></th>\n",
       "      <th>W</th>\n",
       "      <th>pval</th>\n",
       "      <th>equal_var</th>\n",
       "    </tr>\n",
       "  </thead>\n",
       "  <tbody>\n",
       "    <tr>\n",
       "      <th>levene</th>\n",
       "      <td>2.26226</td>\n",
       "      <td>0.104133</td>\n",
       "      <td>True</td>\n",
       "    </tr>\n",
       "  </tbody>\n",
       "</table>\n",
       "</div>"
      ],
      "text/plain": [
       "              W      pval  equal_var\n",
       "levene  2.26226  0.104133       True"
      ]
     },
     "execution_count": 12,
     "metadata": {},
     "output_type": "execute_result"
    }
   ],
   "source": [
    "pg.homoscedasticity(data=df_1, dv=\"events\", group=\"group\")"
   ]
  },
  {
   "cell_type": "code",
   "execution_count": 13,
   "metadata": {},
   "outputs": [
    {
     "data": {
      "text/html": [
       "<div>\n",
       "<style scoped>\n",
       "    .dataframe tbody tr th:only-of-type {\n",
       "        vertical-align: middle;\n",
       "    }\n",
       "\n",
       "    .dataframe tbody tr th {\n",
       "        vertical-align: top;\n",
       "    }\n",
       "\n",
       "    .dataframe thead th {\n",
       "        text-align: right;\n",
       "    }\n",
       "</style>\n",
       "<table border=\"1\" class=\"dataframe\">\n",
       "  <thead>\n",
       "    <tr style=\"text-align: right;\">\n",
       "      <th></th>\n",
       "      <th>W</th>\n",
       "      <th>pval</th>\n",
       "      <th>equal_var</th>\n",
       "    </tr>\n",
       "  </thead>\n",
       "  <tbody>\n",
       "    <tr>\n",
       "      <th>levene</th>\n",
       "      <td>335.193107</td>\n",
       "      <td>9.423048e-75</td>\n",
       "      <td>False</td>\n",
       "    </tr>\n",
       "  </tbody>\n",
       "</table>\n",
       "</div>"
      ],
      "text/plain": [
       "                 W          pval  equal_var\n",
       "levene  335.193107  9.423048e-75      False"
      ]
     },
     "execution_count": 13,
     "metadata": {},
     "output_type": "execute_result"
    }
   ],
   "source": [
    "pg.homoscedasticity(data=df_2, dv=\"events\", group=\"segment\")"
   ]
  },
  {
   "cell_type": "code",
   "execution_count": 15,
   "metadata": {},
   "outputs": [],
   "source": [
    "# проверка на нормальность распределения (тест Шапиро-Уилка)\n",
    "\n",
    "# ПЕРЕД этим - сэмплирование. \n",
    "\n",
    "# Сэмплирование нужно именно для проверки нормальности, сам тест уже проводится на исходных данных!"
   ]
  },
  {
   "cell_type": "code",
   "execution_count": 29,
   "metadata": {},
   "outputs": [],
   "source": [
    "random_sample_a = df_1[df_1.group == 'A'].events.sample(1000, random_state=17)\n",
    "random_sample_b = df_1[df_1.group == 'B'].events.sample(1000, random_state=17)\n",
    "random_sample_c = df_1[df_1.group == 'C'].events.sample(1000, random_state=17)"
   ]
  },
  {
   "cell_type": "code",
   "execution_count": 40,
   "metadata": {},
   "outputs": [
    {
     "name": "stderr",
     "output_type": "stream",
     "text": [
      "/opt/tljh/user/lib/python3.7/site-packages/seaborn/distributions.py:2557: FutureWarning: `distplot` is a deprecated function and will be removed in a future version. Please adapt your code to use either `displot` (a figure-level function with similar flexibility) or `histplot` (an axes-level function for histograms).\n",
      "  warnings.warn(msg, FutureWarning)\n"
     ]
    },
    {
     "data": {
      "image/png": "[encoded data removed]",
      "text/plain": [
       "<Figure size 432x288 with 1 Axes>"
      ]
     },
     "metadata": {
      "needs_background": "light"
     },
     "output_type": "display_data"
    },
    {
     "data": {
      "image/png": "[encoded data removed]",
      "text/plain": [
       "<Figure size 432x288 with 1 Axes>"
      ]
     },
     "metadata": {
      "needs_background": "light"
     },
     "output_type": "display_data"
    }
   ],
   "source": [
    "sns.distplot(random_sample_a);\n",
    "sm.qqplot(random_sample_a, line='r');"
   ]
  },
  {
   "cell_type": "code",
   "execution_count": 41,
   "metadata": {},
   "outputs": [
    {
     "name": "stderr",
     "output_type": "stream",
     "text": [
      "/opt/tljh/user/lib/python3.7/site-packages/seaborn/distributions.py:2557: FutureWarning: `distplot` is a deprecated function and will be removed in a future version. Please adapt your code to use either `displot` (a figure-level function with similar flexibility) or `histplot` (an axes-level function for histograms).\n",
      "  warnings.warn(msg, FutureWarning)\n"
     ]
    },
    {
     "data": {
      "image/png": "[encoded data removed]",
      "text/plain": [
       "<Figure size 432x288 with 1 Axes>"
      ]
     },
     "metadata": {
      "needs_background": "light"
     },
     "output_type": "display_data"
    },
    {
     "data": {
      "image/png": "[encoded data removed]",
      "text/plain": [
       "<Figure size 432x288 with 1 Axes>"
      ]
     },
     "metadata": {
      "needs_background": "light"
     },
     "output_type": "display_data"
    }
   ],
   "source": [
    "sns.distplot(random_sample_b);\n",
    "sm.qqplot(random_sample_a, line='r');"
   ]
  },
  {
   "cell_type": "code",
   "execution_count": 42,
   "metadata": {},
   "outputs": [
    {
     "name": "stderr",
     "output_type": "stream",
     "text": [
      "/opt/tljh/user/lib/python3.7/site-packages/seaborn/distributions.py:2557: FutureWarning: `distplot` is a deprecated function and will be removed in a future version. Please adapt your code to use either `displot` (a figure-level function with similar flexibility) or `histplot` (an axes-level function for histograms).\n",
      "  warnings.warn(msg, FutureWarning)\n"
     ]
    },
    {
     "data": {
      "image/png": "[encoded data removed]",
      "text/plain": [
       "<Figure size 432x288 with 1 Axes>"
      ]
     },
     "metadata": {
      "needs_background": "light"
     },
     "output_type": "display_data"
    },
    {
     "data": {
      "image/png": "[encoded data removed]",
      "text/plain": [
       "<Figure size 432x288 with 1 Axes>"
      ]
     },
     "metadata": {
      "needs_background": "light"
     },
     "output_type": "display_data"
    }
   ],
   "source": [
    "sns.distplot(random_sample_c);\n",
    "sm.qqplot(random_sample_a, line='r');"
   ]
  },
  {
   "cell_type": "code",
   "execution_count": 43,
   "metadata": {},
   "outputs": [],
   "source": [
    "# qq-plot гораздо нагляднее показывает, нормальное ли распределение\n",
    "# на distplot'е кажется, что распеределение не совсем нормальное"
   ]
  },
  {
   "cell_type": "code",
   "execution_count": 38,
   "metadata": {},
   "outputs": [
    {
     "name": "stdout",
     "output_type": "stream",
     "text": [
      "ShapiroResult(statistic=0.9973153471946716, pvalue=0.09609563648700714)\n",
      "ShapiroResult(statistic=0.9980798363685608, pvalue=0.31768906116485596)\n",
      "ShapiroResult(statistic=0.9981185793876648, pvalue=0.3359004259109497)\n"
     ]
    }
   ],
   "source": [
    "print(shapiro(random_sample_a))\n",
    "print(shapiro(random_sample_b))\n",
    "print(shapiro(random_sample_c))\n",
    "\n",
    "# но тест Шапиро показывается, что всё же распределение во всех группах нормальное"
   ]
  },
  {
   "cell_type": "code",
   "execution_count": null,
   "metadata": {},
   "outputs": [],
   "source": []
  },
  {
   "cell_type": "code",
   "execution_count": null,
   "metadata": {},
   "outputs": [],
   "source": [
    "# попробуем сделать то же самое, только без сэмплирования"
   ]
  },
  {
   "cell_type": "code",
   "execution_count": 47,
   "metadata": {},
   "outputs": [
    {
     "data": {
      "image/png": "[encoded data removed]",
      "text/plain": [
       "<Figure size 432x288 with 1 Axes>"
      ]
     },
     "metadata": {
      "needs_background": "light"
     },
     "output_type": "display_data"
    },
    {
     "data": {
      "image/png": "[encoded data removed]",
      "text/plain": [
       "<Figure size 432x288 with 1 Axes>"
      ]
     },
     "metadata": {
      "needs_background": "light"
     },
     "output_type": "display_data"
    },
    {
     "data": {
      "image/png": "[encoded data removed]",
      "text/plain": [
       "<Figure size 432x288 with 1 Axes>"
      ]
     },
     "metadata": {
      "needs_background": "light"
     },
     "output_type": "display_data"
    }
   ],
   "source": [
    "sm.qqplot(df_1[df_1.group == 'A'].events);\n",
    "sm.qqplot(df_1[df_1.group == 'B'].events);\n",
    "sm.qqplot(df_1[df_1.group == 'C'].events);"
   ]
  },
  {
   "cell_type": "code",
   "execution_count": 44,
   "metadata": {},
   "outputs": [
    {
     "name": "stdout",
     "output_type": "stream",
     "text": [
      "ShapiroResult(statistic=0.9989418387413025, pvalue=4.318870651331963e-06)\n",
      "ShapiroResult(statistic=0.9990161061286926, pvalue=1.0504894817131571e-05)\n",
      "ShapiroResult(statistic=0.9989210963249207, pvalue=3.3885160064528463e-06)\n"
     ]
    },
    {
     "name": "stderr",
     "output_type": "stream",
     "text": [
      "/opt/tljh/user/lib/python3.7/site-packages/scipy/stats/morestats.py:1760: UserWarning: p-value may not be accurate for N > 5000.\n",
      "  warnings.warn(\"p-value may not be accurate for N > 5000.\")\n"
     ]
    }
   ],
   "source": [
    "print(shapiro(df_1[df_1.group == 'A'].events))\n",
    "print(shapiro(df_1[df_1.group == 'B'].events))\n",
    "print(shapiro(df_1[df_1.group == 'C'].events))"
   ]
  },
  {
   "cell_type": "code",
   "execution_count": null,
   "metadata": {},
   "outputs": [],
   "source": [
    "# мы видим, что p-value становится гораздо меньше "
   ]
  },
  {
   "cell_type": "code",
   "execution_count": null,
   "metadata": {},
   "outputs": [],
   "source": []
  },
  {
   "cell_type": "code",
   "execution_count": 49,
   "metadata": {},
   "outputs": [],
   "source": [
    "# проведём тест"
   ]
  },
  {
   "cell_type": "code",
   "execution_count": 56,
   "metadata": {},
   "outputs": [],
   "source": [
    "group_a = df_1.query('group == \"A\"').events\n",
    "group_b = df_1.query('group == \"B\"').events\n",
    "group_c = df_1.query('group == \"C\"').events"
   ]
  },
  {
   "cell_type": "code",
   "execution_count": 57,
   "metadata": {},
   "outputs": [
    {
     "data": {
      "text/plain": [
       "F_onewayResult(statistic=2886.166657438961, pvalue=0.0)"
      ]
     },
     "execution_count": 57,
     "metadata": {},
     "output_type": "execute_result"
    }
   ],
   "source": [
    "stats.f_oneway(group_a, group_b, group_c)"
   ]
  },
  {
   "cell_type": "code",
   "execution_count": null,
   "metadata": {},
   "outputs": [],
   "source": []
  },
  {
   "cell_type": "code",
   "execution_count": 58,
   "metadata": {},
   "outputs": [],
   "source": [
    "# Критерий Тьюки для того, чтобы понять, между КАКИМИ группами есть различие"
   ]
  },
  {
   "cell_type": "code",
   "execution_count": 61,
   "metadata": {},
   "outputs": [
    {
     "name": "stdout",
     "output_type": "stream",
     "text": [
      "Multiple Comparison of Means - Tukey HSD, FWER=0.05 \n",
      "====================================================\n",
      "group1 group2 meandiff p-adj  lower    upper  reject\n",
      "----------------------------------------------------\n",
      "     A      B    8.034 0.001   7.7038  8.3642   True\n",
      "     A      C  -2.1093 0.001  -2.4395 -1.7791   True\n",
      "     B      C -10.1433 0.001 -10.4735 -9.8131   True\n",
      "----------------------------------------------------\n"
     ]
    }
   ],
   "source": [
    "print(pairwise_tukeyhsd(df_1.events, df_1.group))"
   ]
  },
  {
   "cell_type": "code",
   "execution_count": null,
   "metadata": {},
   "outputs": [],
   "source": []
  },
  {
   "cell_type": "code",
   "execution_count": 62,
   "metadata": {},
   "outputs": [],
   "source": [
    "# попробуем, то же самое, но через pingouin"
   ]
  },
  {
   "cell_type": "code",
   "execution_count": 63,
   "metadata": {},
   "outputs": [
    {
     "data": {
      "text/html": [
       "<div>\n",
       "<style scoped>\n",
       "    .dataframe tbody tr th:only-of-type {\n",
       "        vertical-align: middle;\n",
       "    }\n",
       "\n",
       "    .dataframe tbody tr th {\n",
       "        vertical-align: top;\n",
       "    }\n",
       "\n",
       "    .dataframe thead th {\n",
       "        text-align: right;\n",
       "    }\n",
       "</style>\n",
       "<table border=\"1\" class=\"dataframe\">\n",
       "  <thead>\n",
       "    <tr style=\"text-align: right;\">\n",
       "      <th></th>\n",
       "      <th>A</th>\n",
       "      <th>B</th>\n",
       "      <th>mean(A)</th>\n",
       "      <th>mean(B)</th>\n",
       "      <th>diff</th>\n",
       "      <th>se</th>\n",
       "      <th>T</th>\n",
       "      <th>p-tukey</th>\n",
       "      <th>hedges</th>\n",
       "    </tr>\n",
       "  </thead>\n",
       "  <tbody>\n",
       "    <tr>\n",
       "      <th>0</th>\n",
       "      <td>A</td>\n",
       "      <td>B</td>\n",
       "      <td>29.5796</td>\n",
       "      <td>37.6136</td>\n",
       "      <td>-8.0340</td>\n",
       "      <td>0.140894</td>\n",
       "      <td>-57.021604</td>\n",
       "      <td>0.001</td>\n",
       "      <td>-0.806377</td>\n",
       "    </tr>\n",
       "    <tr>\n",
       "      <th>1</th>\n",
       "      <td>A</td>\n",
       "      <td>C</td>\n",
       "      <td>29.5796</td>\n",
       "      <td>27.4703</td>\n",
       "      <td>2.1093</td>\n",
       "      <td>0.140894</td>\n",
       "      <td>14.970833</td>\n",
       "      <td>0.001</td>\n",
       "      <td>0.211712</td>\n",
       "    </tr>\n",
       "    <tr>\n",
       "      <th>2</th>\n",
       "      <td>B</td>\n",
       "      <td>C</td>\n",
       "      <td>37.6136</td>\n",
       "      <td>27.4703</td>\n",
       "      <td>10.1433</td>\n",
       "      <td>0.140894</td>\n",
       "      <td>71.992436</td>\n",
       "      <td>0.001</td>\n",
       "      <td>1.018089</td>\n",
       "    </tr>\n",
       "  </tbody>\n",
       "</table>\n",
       "</div>"
      ],
      "text/plain": [
       "   A  B  mean(A)  mean(B)     diff        se          T  p-tukey    hedges\n",
       "0  A  B  29.5796  37.6136  -8.0340  0.140894 -57.021604    0.001 -0.806377\n",
       "1  A  C  29.5796  27.4703   2.1093  0.140894  14.970833    0.001  0.211712\n",
       "2  B  C  37.6136  27.4703  10.1433  0.140894  71.992436    0.001  1.018089"
      ]
     },
     "execution_count": 63,
     "metadata": {},
     "output_type": "execute_result"
    }
   ],
   "source": [
    "pg.pairwise_tukey(data=df_1, dv='events', between='group')"
   ]
  },
  {
   "cell_type": "code",
   "execution_count": 64,
   "metadata": {},
   "outputs": [],
   "source": [
    "# p-значение то же самое\n",
    "\n",
    "# Получается, статистически значимая между разрешением показанных картинок имеется"
   ]
  },
  {
   "cell_type": "code",
   "execution_count": null,
   "metadata": {},
   "outputs": [],
   "source": []
  },
  {
   "cell_type": "code",
   "execution_count": null,
   "metadata": {},
   "outputs": [],
   "source": [
    "# визуализируйте распределение events для контрольной и тестовой групп."
   ]
  },
  {
   "cell_type": "code",
   "execution_count": 71,
   "metadata": {},
   "outputs": [
    {
     "name": "stderr",
     "output_type": "stream",
     "text": [
      "/opt/tljh/user/lib/python3.7/site-packages/seaborn/distributions.py:2557: FutureWarning: `distplot` is a deprecated function and will be removed in a future version. Please adapt your code to use either `displot` (a figure-level function with similar flexibility) or `histplot` (an axes-level function for histograms).\n",
      "  warnings.warn(msg, FutureWarning)\n"
     ]
    },
    {
     "data": {
      "image/png": "[encoded data removed]",
      "text/plain": [
       "<Figure size 432x288 with 1 Axes>"
      ]
     },
     "metadata": {
      "needs_background": "light"
     },
     "output_type": "display_data"
    }
   ],
   "source": [
    "sns.distplot(df_2[df_2.group == 'test'].events);"
   ]
  },
  {
   "cell_type": "code",
   "execution_count": 72,
   "metadata": {},
   "outputs": [
    {
     "name": "stderr",
     "output_type": "stream",
     "text": [
      "/opt/tljh/user/lib/python3.7/site-packages/seaborn/distributions.py:2557: FutureWarning: `distplot` is a deprecated function and will be removed in a future version. Please adapt your code to use either `displot` (a figure-level function with similar flexibility) or `histplot` (an axes-level function for histograms).\n",
      "  warnings.warn(msg, FutureWarning)\n"
     ]
    },
    {
     "data": {
      "image/png": "[encoded data removed]",
      "text/plain": [
       "<Figure size 432x288 with 1 Axes>"
      ]
     },
     "metadata": {
      "needs_background": "light"
     },
     "output_type": "display_data"
    }
   ],
   "source": [
    "sns.distplot(df_2[df_2.group == 'control'].events);"
   ]
  },
  {
   "cell_type": "code",
   "execution_count": 77,
   "metadata": {},
   "outputs": [],
   "source": [
    "# Посчитайте среднее, медиану и стандартное отклонение events в разбивке по группе и по сегменту пользователя"
   ]
  },
  {
   "cell_type": "code",
   "execution_count": 82,
   "metadata": {},
   "outputs": [
    {
     "data": {
      "text/html": [
       "<div>\n",
       "<style scoped>\n",
       "    .dataframe tbody tr th:only-of-type {\n",
       "        vertical-align: middle;\n",
       "    }\n",
       "\n",
       "    .dataframe tbody tr th {\n",
       "        vertical-align: top;\n",
       "    }\n",
       "\n",
       "    .dataframe thead tr th {\n",
       "        text-align: left;\n",
       "    }\n",
       "</style>\n",
       "<table border=\"1\" class=\"dataframe\">\n",
       "  <thead>\n",
       "    <tr>\n",
       "      <th></th>\n",
       "      <th>group</th>\n",
       "      <th>segment</th>\n",
       "      <th colspan=\"3\" halign=\"left\">events</th>\n",
       "    </tr>\n",
       "    <tr>\n",
       "      <th></th>\n",
       "      <th></th>\n",
       "      <th></th>\n",
       "      <th>mean</th>\n",
       "      <th>median</th>\n",
       "      <th>std</th>\n",
       "    </tr>\n",
       "  </thead>\n",
       "  <tbody>\n",
       "    <tr>\n",
       "      <th>0</th>\n",
       "      <td>control</td>\n",
       "      <td>high</td>\n",
       "      <td>59.970800</td>\n",
       "      <td>60.0</td>\n",
       "      <td>7.805347</td>\n",
       "    </tr>\n",
       "    <tr>\n",
       "      <th>1</th>\n",
       "      <td>control</td>\n",
       "      <td>low</td>\n",
       "      <td>20.031575</td>\n",
       "      <td>20.0</td>\n",
       "      <td>4.473576</td>\n",
       "    </tr>\n",
       "    <tr>\n",
       "      <th>2</th>\n",
       "      <td>test</td>\n",
       "      <td>high</td>\n",
       "      <td>69.938500</td>\n",
       "      <td>70.0</td>\n",
       "      <td>8.403974</td>\n",
       "    </tr>\n",
       "    <tr>\n",
       "      <th>3</th>\n",
       "      <td>test</td>\n",
       "      <td>low</td>\n",
       "      <td>33.025925</td>\n",
       "      <td>33.0</td>\n",
       "      <td>5.720845</td>\n",
       "    </tr>\n",
       "  </tbody>\n",
       "</table>\n",
       "</div>"
      ],
      "text/plain": [
       "     group segment     events                 \n",
       "                         mean median       std\n",
       "0  control    high  59.970800   60.0  7.805347\n",
       "1  control     low  20.031575   20.0  4.473576\n",
       "2     test    high  69.938500   70.0  8.403974\n",
       "3     test     low  33.025925   33.0  5.720845"
      ]
     },
     "execution_count": 82,
     "metadata": {},
     "output_type": "execute_result"
    }
   ],
   "source": [
    "df_2.groupby(['group', 'segment'], as_index=False) \\\n",
    "    .agg({'events': ['mean', 'median', 'std']})"
   ]
  },
  {
   "cell_type": "code",
   "execution_count": null,
   "metadata": {},
   "outputs": [],
   "source": []
  },
  {
   "cell_type": "code",
   "execution_count": null,
   "metadata": {},
   "outputs": [],
   "source": [
    "# Проведите тест (через anova_lm либо pg.anova), а затем используйте критерий Тьюки, \n",
    "# чтобы понять между какими группами есть статистически значимые различия."
   ]
  },
  {
   "cell_type": "code",
   "execution_count": 89,
   "metadata": {},
   "outputs": [
    {
     "data": {
      "text/html": [
       "<div>\n",
       "<style scoped>\n",
       "    .dataframe tbody tr th:only-of-type {\n",
       "        vertical-align: middle;\n",
       "    }\n",
       "\n",
       "    .dataframe tbody tr th {\n",
       "        vertical-align: top;\n",
       "    }\n",
       "\n",
       "    .dataframe thead th {\n",
       "        text-align: right;\n",
       "    }\n",
       "</style>\n",
       "<table border=\"1\" class=\"dataframe\">\n",
       "  <thead>\n",
       "    <tr style=\"text-align: right;\">\n",
       "      <th></th>\n",
       "      <th>id</th>\n",
       "      <th>group</th>\n",
       "      <th>segment</th>\n",
       "      <th>events</th>\n",
       "      <th>combination</th>\n",
       "    </tr>\n",
       "  </thead>\n",
       "  <tbody>\n",
       "    <tr>\n",
       "      <th>0</th>\n",
       "      <td>83440</td>\n",
       "      <td>test</td>\n",
       "      <td>high</td>\n",
       "      <td>78.0</td>\n",
       "      <td>test/high</td>\n",
       "    </tr>\n",
       "    <tr>\n",
       "      <th>1</th>\n",
       "      <td>96723</td>\n",
       "      <td>test</td>\n",
       "      <td>high</td>\n",
       "      <td>71.0</td>\n",
       "      <td>test/high</td>\n",
       "    </tr>\n",
       "    <tr>\n",
       "      <th>2</th>\n",
       "      <td>68719</td>\n",
       "      <td>test</td>\n",
       "      <td>high</td>\n",
       "      <td>80.0</td>\n",
       "      <td>test/high</td>\n",
       "    </tr>\n",
       "    <tr>\n",
       "      <th>3</th>\n",
       "      <td>50399</td>\n",
       "      <td>test</td>\n",
       "      <td>high</td>\n",
       "      <td>80.0</td>\n",
       "      <td>test/high</td>\n",
       "    </tr>\n",
       "    <tr>\n",
       "      <th>4</th>\n",
       "      <td>95613</td>\n",
       "      <td>test</td>\n",
       "      <td>high</td>\n",
       "      <td>78.0</td>\n",
       "      <td>test/high</td>\n",
       "    </tr>\n",
       "  </tbody>\n",
       "</table>\n",
       "</div>"
      ],
      "text/plain": [
       "      id group segment  events combination\n",
       "0  83440  test    high    78.0   test/high\n",
       "1  96723  test    high    71.0   test/high\n",
       "2  68719  test    high    80.0   test/high\n",
       "3  50399  test    high    80.0   test/high\n",
       "4  95613  test    high    78.0   test/high"
      ]
     },
     "execution_count": 89,
     "metadata": {},
     "output_type": "execute_result"
    }
   ],
   "source": [
    "df_2['combination'] = df_2['group'] + '/' + df_2['segment']\n",
    "df_2.head()"
   ]
  },
  {
   "cell_type": "code",
   "execution_count": 85,
   "metadata": {},
   "outputs": [
    {
     "data": {
      "text/html": [
       "<div>\n",
       "<style scoped>\n",
       "    .dataframe tbody tr th:only-of-type {\n",
       "        vertical-align: middle;\n",
       "    }\n",
       "\n",
       "    .dataframe tbody tr th {\n",
       "        vertical-align: top;\n",
       "    }\n",
       "\n",
       "    .dataframe thead th {\n",
       "        text-align: right;\n",
       "    }\n",
       "</style>\n",
       "<table border=\"1\" class=\"dataframe\">\n",
       "  <thead>\n",
       "    <tr style=\"text-align: right;\">\n",
       "      <th></th>\n",
       "      <th>Source</th>\n",
       "      <th>SS</th>\n",
       "      <th>DF</th>\n",
       "      <th>MS</th>\n",
       "      <th>F</th>\n",
       "      <th>p-unc</th>\n",
       "      <th>np2</th>\n",
       "    </tr>\n",
       "  </thead>\n",
       "  <tbody>\n",
       "    <tr>\n",
       "      <th>0</th>\n",
       "      <td>group</td>\n",
       "      <td>3.837195e+06</td>\n",
       "      <td>1.0</td>\n",
       "      <td>3.837195e+06</td>\n",
       "      <td>112031.864119</td>\n",
       "      <td>0.000000e+00</td>\n",
       "      <td>0.528383</td>\n",
       "    </tr>\n",
       "    <tr>\n",
       "      <th>1</th>\n",
       "      <td>segment</td>\n",
       "      <td>2.362480e+07</td>\n",
       "      <td>1.0</td>\n",
       "      <td>2.362480e+07</td>\n",
       "      <td>689756.377484</td>\n",
       "      <td>0.000000e+00</td>\n",
       "      <td>0.873383</td>\n",
       "    </tr>\n",
       "    <tr>\n",
       "      <th>2</th>\n",
       "      <td>group * segment</td>\n",
       "      <td>3.664244e+04</td>\n",
       "      <td>1.0</td>\n",
       "      <td>3.664244e+04</td>\n",
       "      <td>1069.823273</td>\n",
       "      <td>2.060261e-233</td>\n",
       "      <td>0.010585</td>\n",
       "    </tr>\n",
       "    <tr>\n",
       "      <th>3</th>\n",
       "      <td>Residual</td>\n",
       "      <td>3.424956e+06</td>\n",
       "      <td>99996.0</td>\n",
       "      <td>3.425093e+01</td>\n",
       "      <td>NaN</td>\n",
       "      <td>NaN</td>\n",
       "      <td>NaN</td>\n",
       "    </tr>\n",
       "  </tbody>\n",
       "</table>\n",
       "</div>"
      ],
      "text/plain": [
       "            Source            SS       DF            MS              F  \\\n",
       "0            group  3.837195e+06      1.0  3.837195e+06  112031.864119   \n",
       "1          segment  2.362480e+07      1.0  2.362480e+07  689756.377484   \n",
       "2  group * segment  3.664244e+04      1.0  3.664244e+04    1069.823273   \n",
       "3         Residual  3.424956e+06  99996.0  3.425093e+01            NaN   \n",
       "\n",
       "           p-unc       np2  \n",
       "0   0.000000e+00  0.528383  \n",
       "1   0.000000e+00  0.873383  \n",
       "2  2.060261e-233  0.010585  \n",
       "3            NaN       NaN  "
      ]
     },
     "execution_count": 85,
     "metadata": {},
     "output_type": "execute_result"
    }
   ],
   "source": [
    "pg.anova(data=df_2, dv='events', between=['group', 'segment'])\n",
    "\n",
    "# факторы group, segment и их взаимодействие оказались значимыми"
   ]
  },
  {
   "cell_type": "code",
   "execution_count": 91,
   "metadata": {},
   "outputs": [
    {
     "name": "stdout",
     "output_type": "stream",
     "text": [
      "      Multiple Comparison of Means - Tukey HSD, FWER=0.05       \n",
      "================================================================\n",
      "   group1       group2   meandiff p-adj  lower    upper   reject\n",
      "----------------------------------------------------------------\n",
      "control/high control/low -39.9392 0.001 -40.1073 -39.7711   True\n",
      "control/high   test/high   9.9677 0.001   9.7551  10.1803   True\n",
      "control/high    test/low -26.9449 0.001  -27.113 -26.7768   True\n",
      " control/low   test/high  49.9069 0.001  49.7388   50.075   True\n",
      " control/low    test/low  12.9944 0.001   12.888  13.1007   True\n",
      "   test/high    test/low -36.9126 0.001 -37.0807 -36.7445   True\n",
      "----------------------------------------------------------------\n"
     ]
    }
   ],
   "source": [
    "print(pairwise_tukeyhsd(df_2.events, df_2.combination))\n",
    "\n",
    "# везде нулевые гипотезы отвергаются => все средние групп различаются статистически"
   ]
  },
  {
   "cell_type": "code",
   "execution_count": 94,
   "metadata": {},
   "outputs": [
    {
     "data": {
      "image/png": "[encoded data removed]",
      "text/plain": [
       "<Figure size 432x288 with 1 Axes>"
      ]
     },
     "metadata": {
      "needs_background": "light"
     },
     "output_type": "display_data"
    }
   ],
   "source": [
    "sns.pointplot(data=df_2, x='group', y='events', hue='segment');"
   ]
  },
  {
   "cell_type": "code",
   "execution_count": null,
   "metadata": {},
   "outputs": [],
   "source": []
  }
 ],
 "metadata": {
  "kernelspec": {
   "display_name": "Python 3",
   "language": "python",
   "name": "python3"
  },
  "language_info": {
   "codemirror_mode": {
    "name": "ipython",
    "version": 3
   },
   "file_extension": ".py",
   "mimetype": "text/x-python",
   "name": "python",
   "nbconvert_exporter": "python",
   "pygments_lexer": "ipython3",
   "version": "3.7.3"
  }
 },
 "nbformat": 4,
 "nbformat_minor": 4
}
